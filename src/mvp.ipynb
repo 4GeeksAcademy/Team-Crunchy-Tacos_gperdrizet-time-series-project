{
 "cells": [
  {
   "cell_type": "markdown",
   "metadata": {},
   "source": [
    "# Time series forecasting project"
   ]
  },
  {
   "cell_type": "code",
   "execution_count": 1,
   "metadata": {},
   "outputs": [],
   "source": [
    "# Handle imports up-front\n",
    "import numpy as np\n",
    "import pandas as pd\n",
    "import seaborn as sns\n",
    "import matplotlib.pyplot as plt\n",
    "\n",
    "from math import sqrt\n",
    "from sklearn.linear_model import LinearRegression\n",
    "from sklearn.metrics import mean_squared_error\n",
    "from sklearn.model_selection import TimeSeriesSplit\n",
    "from pmdarima import auto_arima"
   ]
  },
  {
   "cell_type": "markdown",
   "metadata": {},
   "source": [
    "## 1. Data loading"
   ]
  },
  {
   "cell_type": "markdown",
   "metadata": {},
   "source": [
    "### 1.1. Load"
   ]
  },
  {
   "cell_type": "code",
   "execution_count": 2,
   "metadata": {},
   "outputs": [],
   "source": [
    "dataset='flights'"
   ]
  },
  {
   "cell_type": "code",
   "execution_count": 3,
   "metadata": {},
   "outputs": [],
   "source": [
    "if dataset == 'flights':\n",
    "    raw_data_df=sns.load_dataset(\"flights\")\n",
    "\n",
    "elif dataset == 'sales':\n",
    "    raw_data_df=pd.read_csv('https://raw.githubusercontent.com/4GeeksAcademy/alternative-time-series-project/main/sales.csv')"
   ]
  },
  {
   "cell_type": "markdown",
   "metadata": {},
   "source": [
    "### 1.2. Inspect "
   ]
  },
  {
   "cell_type": "code",
   "execution_count": 4,
   "metadata": {},
   "outputs": [
    {
     "name": "stdout",
     "output_type": "stream",
     "text": [
      "<class 'pandas.core.frame.DataFrame'>\n",
      "RangeIndex: 144 entries, 0 to 143\n",
      "Data columns (total 3 columns):\n",
      " #   Column      Non-Null Count  Dtype   \n",
      "---  ------      --------------  -----   \n",
      " 0   year        144 non-null    int64   \n",
      " 1   month       144 non-null    category\n",
      " 2   passengers  144 non-null    int64   \n",
      "dtypes: category(1), int64(2)\n",
      "memory usage: 2.9 KB\n"
     ]
    }
   ],
   "source": [
    "raw_data_df.info()"
   ]
  },
  {
   "cell_type": "markdown",
   "metadata": {},
   "source": [
    "### 1.3. Encode date feature\n",
    "\n",
    "Pandas has many great tools to work with timeseries data - see the user guide article: '*[Time series / date functionality](https://pandas.pydata.org/docs/user_guide/timeseries.html)*'. First thing to do is convert our string date feature(s) to a Datetime object."
   ]
  },
  {
   "cell_type": "code",
   "execution_count": 5,
   "metadata": {},
   "outputs": [
    {
     "name": "stdout",
     "output_type": "stream",
     "text": [
      "<class 'pandas.core.frame.DataFrame'>\n",
      "DatetimeIndex: 144 entries, 1949-01-01 to 1960-12-01\n",
      "Data columns (total 1 columns):\n",
      " #   Column         Non-Null Count  Dtype\n",
      "---  ------         --------------  -----\n",
      " 0   dependent_var  144 non-null    int64\n",
      "dtypes: int64(1)\n",
      "memory usage: 2.2 KB\n"
     ]
    }
   ],
   "source": [
    "# Make a copy of the raw data to work with\n",
    "timeseries_df=raw_data_df.copy()\n",
    "\n",
    "# Extract the string month to a datetime object feature\n",
    "timeseries_df['month']=pd.to_datetime(raw_data_df.month, format='%b').dt.month\n",
    "\n",
    "# Use the month and year to create at 'date' datetime feature\n",
    "timeseries_df['date']=pd.to_datetime(timeseries_df[['year', 'month']].assign(day=1))\n",
    "\n",
    "# Set the datetime feature as the index\n",
    "timeseries_df=timeseries_df.set_index('date')\n",
    "\n",
    "# Keep only the passenger column\n",
    "timeseries_df.drop(['year', 'month'], axis=1, inplace=True)\n",
    "\n",
    "# Re-name 'passengers' to 'dependent_var' so we can easily swap datasets without making\n",
    "# changes to the notebook\n",
    "timeseries_df.rename(columns={'passengers': 'dependent_var'}, inplace=True)\n",
    "\n",
    "# Check the result\n",
    "timeseries_df.info()"
   ]
  },
  {
   "cell_type": "markdown",
   "metadata": {},
   "source": [
    "## 2. EDA\n",
    "\n",
    "### 2.1. Baseline model performance\n",
    "\n",
    "Let's set a quick performance baseline using a quick/easy linear regression model."
   ]
  },
  {
   "cell_type": "code",
   "execution_count": 6,
   "metadata": {},
   "outputs": [
    {
     "name": "stdout",
     "output_type": "stream",
     "text": [
      "Root mean square error: 45.7\n"
     ]
    }
   ],
   "source": [
    "# Your code here! Hint use a numeric range equal to the length of the dataset for x.\n",
    "linear_model=LinearRegression()\n",
    "\n",
    "# Generate a uniform x variabel representing the time steps\n",
    "x=np.array(range(len(timeseries_df))).reshape(-1, 1)\n",
    "\n",
    "# Fit the model\n",
    "fit_result=linear_model.fit(x, timeseries_df['dependent_var'])\n",
    "\n",
    "# Make predictions over the input domain\n",
    "predictions=linear_model.predict(x)\n",
    "\n",
    "# Add the linear model predictions back to the dataframe\n",
    "timeseries_df['Linear model']=predictions\n",
    "\n",
    "# Calcualte the root mean squared error\n",
    "rmse=sqrt(mean_squared_error(timeseries_df['dependent_var'], predictions))\n",
    "\n",
    "# Save the result for later\n",
    "rmse_results={'Linear model': rmse}\n",
    "\n",
    "# Display the result for the user\n",
    "print(f'Root mean square error: {rmse:.1f}')\n"
   ]
  },
  {
   "cell_type": "code",
   "execution_count": 7,
   "metadata": {},
   "outputs": [
    {
     "data": {
      "image/png": "[encoded data removed]",
      "text/plain": [
       "<Figure size 640x480 with 1 Axes>"
      ]
     },
     "metadata": {},
     "output_type": "display_data"
    }
   ],
   "source": [
    "plt.title('Distribution of dependent variable')\n",
    "plt.hist(timeseries_df['dependent_var'], color='black')\n",
    "plt.xlabel('Dependent variable')\n",
    "plt.ylabel('Count')\n",
    "plt.show()"
   ]
  },
  {
   "cell_type": "code",
   "execution_count": 8,
   "metadata": {},
   "outputs": [
    {
     "name": "stdout",
     "output_type": "stream",
     "text": [
      "dependent_var    0\n",
      "Linear model     0\n",
      "dtype: int64\n"
     ]
    }
   ],
   "source": [
    "missing_data = timeseries_df.isnull().sum()\n",
    "\n",
    "print(missing_data)"
   ]
  },
  {
   "cell_type": "markdown",
   "metadata": {},
   "source": [
    "### 2.2. Missing, and/or extreme values"
   ]
  },
  {
   "cell_type": "code",
   "execution_count": 9,
   "metadata": {},
   "outputs": [
    {
     "data": {
      "image/png": "[encoded data removed]",
      "text/plain": [
       "<Figure size 1000x600 with 1 Axes>"
      ]
     },
     "metadata": {},
     "output_type": "display_data"
    }
   ],
   "source": [
    "# Plot data as a historgram as you normaly would for any numerical data\n",
    "plt.figure(figsize=(10, 6))\n",
    "plt.hist(timeseries_df['dependent_var'], bins=20, color='blue', edgecolor='black')\n",
    "plt.xlabel('Years')\n",
    "plt.ylabel('Months')\n",
    "plt.title('dependent_var')\n",
    "plt.show()"
   ]
  },
  {
   "cell_type": "code",
   "execution_count": 10,
   "metadata": {},
   "outputs": [
    {
     "name": "stdout",
     "output_type": "stream",
     "text": [
      "Imputing row 1/144 with 0 missing, elapsed time: 0.005\n",
      "Imputing row 101/144 with 0 missing, elapsed time: 0.005\n"
     ]
    },
    {
     "name": "stderr",
     "output_type": "stream",
     "text": [
      "/home/vscode/.local/lib/python3.10/site-packages/fancyimpute/solver.py:55: UserWarning: Input matrix is not missing any values\n",
      "  warnings.warn(\"Input matrix is not missing any values\")\n"
     ]
    }
   ],
   "source": [
    "from fancyimpute import KNN\n",
    "imputer = KNN(k=3)\n",
    "imputed_data = imputer.fit_transform(timeseries_df)"
   ]
  },
  {
   "cell_type": "markdown",
   "metadata": {},
   "source": [
    "### 2.3. Timeseries analysis\n",
    "\n",
    "Let's now take a look at the data as a timeseries. There are a couple of things to look out for here.\n",
    "\n",
    "1. Is the time axis regular - i.e. are the rows evenly spaced in time.\n",
    "2. Is the data stationary - i.e. is there a consistent trend over time. The answer to this question will effect how we model the data.\n",
    "3. Are there regular or cyclical trends - e.g. sales are high on Mondays and low on weekends."
   ]
  },
  {
   "cell_type": "markdown",
   "metadata": {},
   "source": [
    "### 2.3.1. Plot the time-series\n",
    "\n",
    "Let's include predictions from the baseline model too and see what we are working with."
   ]
  },
  {
   "cell_type": "code",
   "execution_count": 11,
   "metadata": {},
   "outputs": [],
   "source": [
    "# Plot the data over time and include the linear regression from above"
   ]
  },
  {
   "cell_type": "markdown",
   "metadata": {},
   "source": [
    "### 2.3.2. Missing timepoints"
   ]
  },
  {
   "cell_type": "markdown",
   "metadata": {},
   "source": [
    "Next, do a quick check to see if the datetime index we just created is evenly spaced - i.e. the time delta between the rows is always the same."
   ]
  },
  {
   "cell_type": "code",
   "execution_count": 12,
   "metadata": {},
   "outputs": [],
   "source": [
    "# Your code here. Hint: take a look and Panda's .resample()"
   ]
  },
  {
   "cell_type": "markdown",
   "metadata": {},
   "source": [
    "### 2.3.3. Stationarity"
   ]
  },
  {
   "cell_type": "code",
   "execution_count": 13,
   "metadata": {},
   "outputs": [],
   "source": [
    "# Note: you want to be aware of this property of your data, but you may or may not have to do anything with this information right away!"
   ]
  },
  {
   "cell_type": "markdown",
   "metadata": {},
   "source": [
    "### 2.3.4. Seasonality"
   ]
  },
  {
   "cell_type": "code",
   "execution_count": 14,
   "metadata": {},
   "outputs": [],
   "source": [
    "# Note: you want to be aware of this property of your data, but you may or may not have to do anything with this information right away!"
   ]
  },
  {
   "cell_type": "markdown",
   "metadata": {},
   "source": [
    "## 3. Model training"
   ]
  },
  {
   "cell_type": "code",
   "execution_count": 15,
   "metadata": {},
   "outputs": [],
   "source": [
    "# Hint use the 'auto_arima()' function from pmdarima as describe in the reading on 4Geeks."
   ]
  },
  {
   "cell_type": "markdown",
   "metadata": {},
   "source": [
    "## 4. Model evaluation\n",
    "\n",
    "This result *looks* convincing, at least if you don't look too close - but how well are we actualy doing? We need to implement test-train splitting and/or cross-validation to estimate the actual performance on unseen data!\n",
    "\n",
    "Breaking up time-series data is a little bit harder than other types of tabular data - we can't just randomly select data points for the training and/or validation sets becuase the order matters!\n",
    "\n",
    "Luckily, Scikit-learn can help us out here - take a look at [TimeSeriesSplit](https://scikit-learn.org/dev/modules/generated/sklearn.model_selection.TimeSeriesSplit.html)."
   ]
  },
  {
   "cell_type": "code",
   "execution_count": 16,
   "metadata": {},
   "outputs": [],
   "source": [
    "# I'll leave it up to you to try and figure out a good way to evalueate this model!"
   ]
  }
 ],
 "metadata": {
  "kernelspec": {
   "display_name": "Python 3",
   "language": "python",
   "name": "python3"
  },
  "language_info": {
   "codemirror_mode": {
    "name": "ipython",
    "version": 3
   },
   "file_extension": ".py",
   "mimetype": "text/x-python",
   "name": "python",
   "nbconvert_exporter": "python",
   "pygments_lexer": "ipython3",
   "version": "3.10.12"
  },
  "orig_nbformat": 4
 },
 "nbformat": 4,
 "nbformat_minor": 2
}
